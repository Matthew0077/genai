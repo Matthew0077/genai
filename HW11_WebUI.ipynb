{
  "cells": [
    {
      "cell_type": "markdown",
      "metadata": {
        "id": "view-in-github",
        "colab_type": "text"
      },
      "source": [
        "<a href=\"https://colab.research.google.com/github/Matthew0077/genai/blob/main/HW11_WebUI.ipynb\" target=\"_parent\"><img src=\"https://colab.research.google.com/assets/colab-badge.svg\" alt=\"Open In Colab\"/></a>"
      ]
    },
    {
      "cell_type": "markdown",
      "metadata": {
        "id": "gLEQCNfkBxm6"
      },
      "source": [
        "### 1. 安裝必要套件"
      ]
    },
    {
      "cell_type": "code",
      "execution_count": null,
      "metadata": {
        "id": "50QsZ9LcBw5Y",
        "collapsed": true
      },
      "outputs": [],
      "source": [
        "!pip install diffusers transformers accelerate safetensors huggingface_hub gradio --upgrade"
      ]
    },
    {
      "cell_type": "code",
      "execution_count": null,
      "metadata": {
        "id": "e3YMEdSZB98I"
      },
      "outputs": [],
      "source": [
        "# from google.colab import userdata\n",
        "\n",
        "# hf_token = userdata.get(\"HuggingFace\")\n",
        "# login(token=hf_token)"
      ]
    },
    {
      "cell_type": "code",
      "execution_count": null,
      "metadata": {
        "id": "AxCcNOPBCmf2"
      },
      "outputs": [],
      "source": [
        "from diffusers import StableDiffusionPipeline, UniPCMultistepScheduler\n",
        "import torch\n",
        "import gc\n",
        "import matplotlib.pyplot as plt\n",
        "import gradio as gr\n",
        "import random\n",
        "from diffusers import (\n",
        "    StableDiffusionPipeline,\n",
        "    EulerDiscreteScheduler,\n",
        "    LMSDiscreteScheduler,\n",
        "    DPMSolverMultistepScheduler,\n",
        "    DDIMScheduler,\n",
        "    AutoencoderKL\n",
        ")\n",
        "\n",
        "#改了"
      ]
    },
    {
      "cell_type": "code",
      "source": [
        "model_name = \"emilianJR/majicMIX_realistic_v6\"\n",
        "#改了"
      ],
      "metadata": {
        "id": "p-bGmsw6U58u"
      },
      "execution_count": null,
      "outputs": []
    },
    {
      "cell_type": "code",
      "execution_count": null,
      "metadata": {
        "id": "c4fEdszfCyO7"
      },
      "outputs": [],
      "source": [
        "pipe.enable_attention_slicing()\n",
        "#改了"
      ]
    },
    {
      "cell_type": "code",
      "source": [
        "pipe.scheduler = DPMSolverMultistepScheduler.from_config(pipe.scheduler.config)\n",
        "pipe.enable_attention_slicing()"
      ],
      "metadata": {
        "id": "vmYQCxzHW8Bh"
      },
      "execution_count": null,
      "outputs": []
    },
    {
      "cell_type": "code",
      "execution_count": null,
      "metadata": {
        "id": "mpPjwVKbDEKe"
      },
      "outputs": [],
      "source": [
        "def generate_images(prompt, use_enhance, enhance_text, use_negative, negative_text,\n",
        "                    use_custom_seed, custom_seed, height, width, steps, num_images):\n",
        "\n",
        "    height = int(height)\n",
        "    width = int(width)\n",
        "\n",
        "    if height % 8 != 0 or width % 8 != 0:\n",
        "        raise ValueError(\"高度和寬度必須是8的倍數！\")\n",
        "\n",
        "    if use_custom_seed:\n",
        "        base_seed = int(custom_seed)\n",
        "    else:\n",
        "        base_seed = random.randint(0, 2**32 - 1)\n",
        "\n",
        "    seeds = [base_seed + i for i in range(num_images)]\n",
        "\n",
        "    prompts = []\n",
        "    negative_prompts = []\n",
        "    generators = []\n",
        "\n",
        "    final_prompt = prompt\n",
        "    if use_enhance and enhance_text:\n",
        "        final_prompt = prompt + \", \" + enhance_text\n",
        "\n",
        "    final_negative = negative_text if use_negative else None\n",
        "\n",
        "    for seed in seeds:\n",
        "        g = torch.Generator(\"cuda\").manual_seed(seed)\n",
        "        generators.append(g)\n",
        "        prompts.append(final_prompt)\n",
        "        negative_prompts.append(final_negative)\n",
        "\n",
        "    gc.collect()\n",
        "    torch.cuda.empty_cache()\n",
        "\n",
        "    images = []\n",
        "    for i in range(num_images):\n",
        "        with torch.no_grad():\n",
        "            image = pipe(\n",
        "                prompt=prompts[i],\n",
        "                negative_prompt=negative_prompts[i] if final_negative else None,\n",
        "                height=height,\n",
        "                width=width,\n",
        "                num_inference_steps=steps,\n",
        "                guidance_scale=7.5,\n",
        "                generator=generators[i]\n",
        "            ).images[0]\n",
        "            images.append(image)\n",
        "\n",
        "    return images, f\"使用的 random seeds: {seeds}\""
      ]
    },
    {
      "cell_type": "code",
      "execution_count": null,
      "metadata": {
        "id": "2uJnUGTXDOCN"
      },
      "outputs": [],
      "source": [
        "default_enhance = \"slightly exposed, wearing minimal clothing, sensual yet tasteful, hyper realistic, ultra detailed, cinematic lighting, 4k\"\n",
        "#改為「暴露、穿薄衣服」，不再強調「slightly」\n",
        "default_negative = \"explicit sexual content, overexposed skin, unnatural nudity, lowres, jpeg artifacts, worst quality, blurry, abnormal proportions\"\n",
        "#改了避免過度不雅或畸形，但保留 full nudity 以外的限制\n",
        "with gr.Blocks(css=\".gradio-container {background-color: #FAFAFA; padding: 20px;} .gr-button {font-size: 18px; background: linear-gradient(to right, #667eea, #764ba2); color: white;}\") as demo:\n",
        "    gr.Markdown(\"\"\"\n",
        "    # 🎨 MajicMIX v6 互動圖像生成器\n",
        "    歡迎使用！輸入提示詞、選擇設定，立即生成你的寫實風格作品！\n",
        "    \"\"\")\n",
        "\n",
        "    with gr.Row():\n",
        "        with gr.Column(scale=6):\n",
        "            prompt = gr.Textbox(label=\"Prompt\", placeholder=\"請輸入你的提示詞 (prompt)\", lines=3)\n",
        "            with gr.Row():\n",
        "                use_enhance = gr.Checkbox(label=\"加強 Prompt\", value=True)\n",
        "                enhance_text = gr.Textbox(label=\"加強內容\", value=default_enhance)\n",
        "            with gr.Row():\n",
        "                use_negative = gr.Checkbox(label=\"使用 Negative Prompt\", value=True)\n",
        "                negative_text = gr.Textbox(label=\"Negative Prompt 內容\", value=default_negative)\n",
        "            with gr.Row():\n",
        "                use_custom_seed = gr.Checkbox(label=\"自訂 Random Seed\", value=False)\n",
        "                custom_seed = gr.Number(label=\"指定 seed (選填)\", value=42)\n",
        "            with gr.Row():\n",
        "                height = gr.Dropdown([\"512\", \"768\", \"1024\"], label=\"高度 Height\", value=\"512\")\n",
        "                width = gr.Dropdown([\"512\", \"768\", \"1024\"], label=\"寬度 Width\", value=\"512\")\n",
        "            with gr.Row():\n",
        "                steps = gr.Slider(10, 50, value=20, step=5, label=\"生成步數 (Steps)\")\n",
        "                num_images = gr.Slider(1, 4, step=1, value=1, label=\"生成張數\")\n",
        "            generate_btn = gr.Button(\"🚀 開始生成！\")\n",
        "\n",
        "        with gr.Column(scale=6):\n",
        "            gallery = gr.Gallery(label=\"生成結果\", columns=2, object_fit=\"contain\", height=\"auto\")\n",
        "            seed_info = gr.Label(label=\"使用的 Random Seeds\")\n",
        "\n",
        "    generate_btn.click(\n",
        "        fn=generate_images,\n",
        "        inputs=[prompt, use_enhance, enhance_text, use_negative, negative_text,\n",
        "                use_custom_seed, custom_seed, height, width, steps, num_images],\n",
        "        outputs=[gallery, seed_info]\n",
        "    )"
      ]
    },
    {
      "cell_type": "code",
      "execution_count": null,
      "metadata": {
        "id": "IYR6wPYHDmkn"
      },
      "outputs": [],
      "source": [
        "demo.launch(share=True, debug=True)"
      ]
    }
  ],
  "metadata": {
    "accelerator": "GPU",
    "colab": {
      "gpuType": "T4",
      "private_outputs": true,
      "provenance": [],
      "include_colab_link": true
    },
    "kernelspec": {
      "display_name": "Python 3",
      "name": "python3"
    },
    "language_info": {
      "name": "python"
    }
  },
  "nbformat": 4,
  "nbformat_minor": 0
}