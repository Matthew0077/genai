{
  "nbformat": 4,
  "nbformat_minor": 0,
  "metadata": {
    "colab": {
      "provenance": [],
      "authorship_tag": "ABX9TyPbBfarU284kUqLlZEIiZHT",
      "include_colab_link": true
    },
    "kernelspec": {
      "name": "python3",
      "display_name": "Python 3"
    },
    "language_info": {
      "name": "python"
    },
    "widgets": {
      "application/vnd.jupyter.widget-state+json": {
        "5251b0ec57b44997abcbd4df4f7b3019": {
          "model_module": "@jupyter-widgets/controls",
          "model_name": "TextareaModel",
          "model_module_version": "1.5.0",
          "state": {
            "_dom_classes": [],
            "_model_module": "@jupyter-widgets/controls",
            "_model_module_version": "1.5.0",
            "_model_name": "TextareaModel",
            "_view_count": null,
            "_view_module": "@jupyter-widgets/controls",
            "_view_module_version": "1.5.0",
            "_view_name": "TextareaView",
            "continuous_update": true,
            "description": "",
            "description_tooltip": null,
            "disabled": false,
            "layout": "IPY_MODEL_1be2fb1d5ba34cd3951ff5139132eb13",
            "placeholder": "​",
            "rows": null,
            "style": "IPY_MODEL_f7daa079110f40eb8b22b9419302516e",
            "value": ""
          }
        },
        "1be2fb1d5ba34cd3951ff5139132eb13": {
          "model_module": "@jupyter-widgets/base",
          "model_name": "LayoutModel",
          "model_module_version": "1.2.0",
          "state": {
            "_model_module": "@jupyter-widgets/base",
            "_model_module_version": "1.2.0",
            "_model_name": "LayoutModel",
            "_view_count": null,
            "_view_module": "@jupyter-widgets/base",
            "_view_module_version": "1.2.0",
            "_view_name": "LayoutView",
            "align_content": null,
            "align_items": null,
            "align_self": null,
            "border": null,
            "bottom": null,
            "display": null,
            "flex": null,
            "flex_flow": null,
            "grid_area": null,
            "grid_auto_columns": null,
            "grid_auto_flow": null,
            "grid_auto_rows": null,
            "grid_column": null,
            "grid_gap": null,
            "grid_row": null,
            "grid_template_areas": null,
            "grid_template_columns": null,
            "grid_template_rows": null,
            "height": null,
            "justify_content": null,
            "justify_items": null,
            "left": null,
            "margin": null,
            "max_height": null,
            "max_width": null,
            "min_height": null,
            "min_width": null,
            "object_fit": null,
            "object_position": null,
            "order": null,
            "overflow": null,
            "overflow_x": null,
            "overflow_y": null,
            "padding": null,
            "right": null,
            "top": null,
            "visibility": null,
            "width": null
          }
        },
        "f7daa079110f40eb8b22b9419302516e": {
          "model_module": "@jupyter-widgets/controls",
          "model_name": "DescriptionStyleModel",
          "model_module_version": "1.5.0",
          "state": {
            "_model_module": "@jupyter-widgets/controls",
            "_model_module_version": "1.5.0",
            "_model_name": "DescriptionStyleModel",
            "_view_count": null,
            "_view_module": "@jupyter-widgets/base",
            "_view_module_version": "1.2.0",
            "_view_name": "StyleView",
            "description_width": ""
          }
        },
        "361f2ac23bcc47e4859b089b0332bf1f": {
          "model_module": "@jupyter-widgets/controls",
          "model_name": "TextareaModel",
          "model_module_version": "1.5.0",
          "state": {
            "_dom_classes": [],
            "_model_module": "@jupyter-widgets/controls",
            "_model_module_version": "1.5.0",
            "_model_name": "TextareaModel",
            "_view_count": null,
            "_view_module": "@jupyter-widgets/controls",
            "_view_module_version": "1.5.0",
            "_view_name": "TextareaView",
            "continuous_update": true,
            "description": "日記輸入：",
            "description_tooltip": null,
            "disabled": false,
            "layout": "IPY_MODEL_568ae4fc7e974fb8a7f275d219825248",
            "placeholder": "請在此輸入今天的焦慮日記…",
            "rows": null,
            "style": "IPY_MODEL_78c982c8368f4eb0a4a50b2e8c2600f0",
            "value": "今天我的朋友不跟玩遊戲"
          }
        },
        "568ae4fc7e974fb8a7f275d219825248": {
          "model_module": "@jupyter-widgets/base",
          "model_name": "LayoutModel",
          "model_module_version": "1.2.0",
          "state": {
            "_model_module": "@jupyter-widgets/base",
            "_model_module_version": "1.2.0",
            "_model_name": "LayoutModel",
            "_view_count": null,
            "_view_module": "@jupyter-widgets/base",
            "_view_module_version": "1.2.0",
            "_view_name": "LayoutView",
            "align_content": null,
            "align_items": null,
            "align_self": null,
            "border": null,
            "bottom": null,
            "display": null,
            "flex": null,
            "flex_flow": null,
            "grid_area": null,
            "grid_auto_columns": null,
            "grid_auto_flow": null,
            "grid_auto_rows": null,
            "grid_column": null,
            "grid_gap": null,
            "grid_row": null,
            "grid_template_areas": null,
            "grid_template_columns": null,
            "grid_template_rows": null,
            "height": "120px",
            "justify_content": null,
            "justify_items": null,
            "left": null,
            "margin": null,
            "max_height": null,
            "max_width": null,
            "min_height": null,
            "min_width": null,
            "object_fit": null,
            "object_position": null,
            "order": null,
            "overflow": null,
            "overflow_x": null,
            "overflow_y": null,
            "padding": null,
            "right": null,
            "top": null,
            "visibility": null,
            "width": "80%"
          }
        },
        "78c982c8368f4eb0a4a50b2e8c2600f0": {
          "model_module": "@jupyter-widgets/controls",
          "model_name": "DescriptionStyleModel",
          "model_module_version": "1.5.0",
          "state": {
            "_model_module": "@jupyter-widgets/controls",
            "_model_module_version": "1.5.0",
            "_model_name": "DescriptionStyleModel",
            "_view_count": null,
            "_view_module": "@jupyter-widgets/base",
            "_view_module_version": "1.2.0",
            "_view_name": "StyleView",
            "description_width": ""
          }
        },
        "cd18ab437a614e5494ab75bf016d7250": {
          "model_module": "@jupyter-widgets/controls",
          "model_name": "ButtonModel",
          "model_module_version": "1.5.0",
          "state": {
            "_dom_classes": [],
            "_model_module": "@jupyter-widgets/controls",
            "_model_module_version": "1.5.0",
            "_model_name": "ButtonModel",
            "_view_count": null,
            "_view_module": "@jupyter-widgets/controls",
            "_view_module_version": "1.5.0",
            "_view_name": "ButtonView",
            "button_style": "primary",
            "description": "送出並分析",
            "disabled": false,
            "icon": "",
            "layout": "IPY_MODEL_7ff5af00fc934a8d8643e7460f1ed8e2",
            "style": "IPY_MODEL_ede8e8cab08c423892ee3a58981a40a7",
            "tooltip": ""
          }
        },
        "7ff5af00fc934a8d8643e7460f1ed8e2": {
          "model_module": "@jupyter-widgets/base",
          "model_name": "LayoutModel",
          "model_module_version": "1.2.0",
          "state": {
            "_model_module": "@jupyter-widgets/base",
            "_model_module_version": "1.2.0",
            "_model_name": "LayoutModel",
            "_view_count": null,
            "_view_module": "@jupyter-widgets/base",
            "_view_module_version": "1.2.0",
            "_view_name": "LayoutView",
            "align_content": null,
            "align_items": null,
            "align_self": null,
            "border": null,
            "bottom": null,
            "display": null,
            "flex": null,
            "flex_flow": null,
            "grid_area": null,
            "grid_auto_columns": null,
            "grid_auto_flow": null,
            "grid_auto_rows": null,
            "grid_column": null,
            "grid_gap": null,
            "grid_row": null,
            "grid_template_areas": null,
            "grid_template_columns": null,
            "grid_template_rows": null,
            "height": null,
            "justify_content": null,
            "justify_items": null,
            "left": null,
            "margin": null,
            "max_height": null,
            "max_width": null,
            "min_height": null,
            "min_width": null,
            "object_fit": null,
            "object_position": null,
            "order": null,
            "overflow": null,
            "overflow_x": null,
            "overflow_y": null,
            "padding": null,
            "right": null,
            "top": null,
            "visibility": null,
            "width": null
          }
        },
        "ede8e8cab08c423892ee3a58981a40a7": {
          "model_module": "@jupyter-widgets/controls",
          "model_name": "ButtonStyleModel",
          "model_module_version": "1.5.0",
          "state": {
            "_model_module": "@jupyter-widgets/controls",
            "_model_module_version": "1.5.0",
            "_model_name": "ButtonStyleModel",
            "_view_count": null,
            "_view_module": "@jupyter-widgets/base",
            "_view_module_version": "1.2.0",
            "_view_name": "StyleView",
            "button_color": null,
            "font_weight": ""
          }
        },
        "46b45ac70d0b455db3175a3b05422769": {
          "model_module": "@jupyter-widgets/output",
          "model_name": "OutputModel",
          "model_module_version": "1.0.0",
          "state": {
            "_dom_classes": [],
            "_model_module": "@jupyter-widgets/output",
            "_model_module_version": "1.0.0",
            "_model_name": "OutputModel",
            "_view_count": null,
            "_view_module": "@jupyter-widgets/output",
            "_view_module_version": "1.0.0",
            "_view_name": "OutputView",
            "layout": "IPY_MODEL_bd8a65ad1175434b8d4753a1823bf77e",
            "msg_id": "",
            "outputs": [
              {
                "output_type": "stream",
                "name": "stdout",
                "text": [
                  "✅ 已儲存。焦慮指數：30.0\n",
                  "🤖 AI 建議：嘗試與你的朋友進行開放且友善的對話，詢問他們為何不想與你一起玩遊戲，這可能是因為他們有其他事情需要處理。另外，嘗試尋找其他興趣或活動，讓你可以自己或與其他人一起享受，這樣可以幫助你擴大社交圈\n",
                  "\n",
                  "--- 歷史所有日記紀錄 ---\n"
                ]
              },
              {
                "output_type": "display_data",
                "data": {
                  "text/plain": "   id        created_at     content  anxiety_score  \\\n0   1  2025-06-02 13:04     我今天很不開心           30.0   \n1   2  2025-06-02 13:05  今天我的朋友不跟玩遊           30.0   \n\n                                         ai_feedback  \n0  嘗試釐清讓你不開心的原因，並且找出一種可以讓你感到舒適和平靜的活動，如閱讀、繪畫或散步。如果...  \n1  嘗試與你的朋友進行開放且友善的對話，詢問他們為何不想與你一起玩遊戲，這可能是因為他們有其他事...  ",
                  "text/html": "\n  <div id=\"df-923a40e7-7875-4722-8fd5-dcf384fe2020\" class=\"colab-df-container\">\n    <div>\n<style scoped>\n    .dataframe tbody tr th:only-of-type {\n        vertical-align: middle;\n    }\n\n    .dataframe tbody tr th {\n        vertical-align: top;\n    }\n\n    .dataframe thead th {\n        text-align: right;\n    }\n</style>\n<table border=\"1\" class=\"dataframe\">\n  <thead>\n    <tr style=\"text-align: right;\">\n      <th></th>\n      <th>id</th>\n      <th>created_at</th>\n      <th>content</th>\n      <th>anxiety_score</th>\n      <th>ai_feedback</th>\n    </tr>\n  </thead>\n  <tbody>\n    <tr>\n      <th>0</th>\n      <td>1</td>\n      <td>2025-06-02 13:04</td>\n      <td>我今天很不開心</td>\n      <td>30.0</td>\n      <td>嘗試釐清讓你不開心的原因，並且找出一種可以讓你感到舒適和平靜的活動，如閱讀、繪畫或散步。如果...</td>\n    </tr>\n    <tr>\n      <th>1</th>\n      <td>2</td>\n      <td>2025-06-02 13:05</td>\n      <td>今天我的朋友不跟玩遊</td>\n      <td>30.0</td>\n      <td>嘗試與你的朋友進行開放且友善的對話，詢問他們為何不想與你一起玩遊戲，這可能是因為他們有其他事...</td>\n    </tr>\n  </tbody>\n</table>\n</div>\n    <div class=\"colab-df-buttons\">\n\n  <div class=\"colab-df-container\">\n    <button class=\"colab-df-convert\" onclick=\"convertToInteractive('df-923a40e7-7875-4722-8fd5-dcf384fe2020')\"\n            title=\"Convert this dataframe to an interactive table.\"\n            style=\"display:none;\">\n\n  <svg xmlns=\"http://www.w3.org/2000/svg\" height=\"24px\" viewBox=\"0 -960 960 960\">\n    <path d=\"M120-120v-720h720v720H120Zm60-500h600v-160H180v160Zm220 220h160v-160H400v160Zm0 220h160v-160H400v160ZM180-400h160v-160H180v160Zm440 0h160v-160H620v160ZM180-180h160v-160H180v160Zm440 0h160v-160H620v160Z\"/>\n  </svg>\n    </button>\n\n  <style>\n    .colab-df-container {\n      display:flex;\n      gap: 12px;\n    }\n\n    .colab-df-convert {\n      background-color: #E8F0FE;\n      border: none;\n      border-radius: 50%;\n      cursor: pointer;\n      display: none;\n      fill: #1967D2;\n      height: 32px;\n      padding: 0 0 0 0;\n      width: 32px;\n    }\n\n    .colab-df-convert:hover {\n      background-color: #E2EBFA;\n      box-shadow: 0px 1px 2px rgba(60, 64, 67, 0.3), 0px 1px 3px 1px rgba(60, 64, 67, 0.15);\n      fill: #174EA6;\n    }\n\n    .colab-df-buttons div {\n      margin-bottom: 4px;\n    }\n\n    [theme=dark] .colab-df-convert {\n      background-color: #3B4455;\n      fill: #D2E3FC;\n    }\n\n    [theme=dark] .colab-df-convert:hover {\n      background-color: #434B5C;\n      box-shadow: 0px 1px 3px 1px rgba(0, 0, 0, 0.15);\n      filter: drop-shadow(0px 1px 2px rgba(0, 0, 0, 0.3));\n      fill: #FFFFFF;\n    }\n  </style>\n\n    <script>\n      const buttonEl =\n        document.querySelector('#df-923a40e7-7875-4722-8fd5-dcf384fe2020 button.colab-df-convert');\n      buttonEl.style.display =\n        google.colab.kernel.accessAllowed ? 'block' : 'none';\n\n      async function convertToInteractive(key) {\n        const element = document.querySelector('#df-923a40e7-7875-4722-8fd5-dcf384fe2020');\n        const dataTable =\n          await google.colab.kernel.invokeFunction('convertToInteractive',\n                                                    [key], {});\n        if (!dataTable) return;\n\n        const docLinkHtml = 'Like what you see? Visit the ' +\n          '<a target=\"_blank\" href=https://colab.research.google.com/notebooks/data_table.ipynb>data table notebook</a>'\n          + ' to learn more about interactive tables.';\n        element.innerHTML = '';\n        dataTable['output_type'] = 'display_data';\n        await google.colab.output.renderOutput(dataTable, element);\n        const docLink = document.createElement('div');\n        docLink.innerHTML = docLinkHtml;\n        element.appendChild(docLink);\n      }\n    </script>\n  </div>\n\n\n    <div id=\"df-fb6eb74b-10ad-4f39-b068-8d6bb55342bf\">\n      <button class=\"colab-df-quickchart\" onclick=\"quickchart('df-fb6eb74b-10ad-4f39-b068-8d6bb55342bf')\"\n                title=\"Suggest charts\"\n                style=\"display:none;\">\n\n<svg xmlns=\"http://www.w3.org/2000/svg\" height=\"24px\"viewBox=\"0 0 24 24\"\n     width=\"24px\">\n    <g>\n        <path d=\"M19 3H5c-1.1 0-2 .9-2 2v14c0 1.1.9 2 2 2h14c1.1 0 2-.9 2-2V5c0-1.1-.9-2-2-2zM9 17H7v-7h2v7zm4 0h-2V7h2v10zm4 0h-2v-4h2v4z\"/>\n    </g>\n</svg>\n      </button>\n\n<style>\n  .colab-df-quickchart {\n      --bg-color: #E8F0FE;\n      --fill-color: #1967D2;\n      --hover-bg-color: #E2EBFA;\n      --hover-fill-color: #174EA6;\n      --disabled-fill-color: #AAA;\n      --disabled-bg-color: #DDD;\n  }\n\n  [theme=dark] .colab-df-quickchart {\n      --bg-color: #3B4455;\n      --fill-color: #D2E3FC;\n      --hover-bg-color: #434B5C;\n      --hover-fill-color: #FFFFFF;\n      --disabled-bg-color: #3B4455;\n      --disabled-fill-color: #666;\n  }\n\n  .colab-df-quickchart {\n    background-color: var(--bg-color);\n    border: none;\n    border-radius: 50%;\n    cursor: pointer;\n    display: none;\n    fill: var(--fill-color);\n    height: 32px;\n    padding: 0;\n    width: 32px;\n  }\n\n  .colab-df-quickchart:hover {\n    background-color: var(--hover-bg-color);\n    box-shadow: 0 1px 2px rgba(60, 64, 67, 0.3), 0 1px 3px 1px rgba(60, 64, 67, 0.15);\n    fill: var(--button-hover-fill-color);\n  }\n\n  .colab-df-quickchart-complete:disabled,\n  .colab-df-quickchart-complete:disabled:hover {\n    background-color: var(--disabled-bg-color);\n    fill: var(--disabled-fill-color);\n    box-shadow: none;\n  }\n\n  .colab-df-spinner {\n    border: 2px solid var(--fill-color);\n    border-color: transparent;\n    border-bottom-color: var(--fill-color);\n    animation:\n      spin 1s steps(1) infinite;\n  }\n\n  @keyframes spin {\n    0% {\n      border-color: transparent;\n      border-bottom-color: var(--fill-color);\n      border-left-color: var(--fill-color);\n    }\n    20% {\n      border-color: transparent;\n      border-left-color: var(--fill-color);\n      border-top-color: var(--fill-color);\n    }\n    30% {\n      border-color: transparent;\n      border-left-color: var(--fill-color);\n      border-top-color: var(--fill-color);\n      border-right-color: var(--fill-color);\n    }\n    40% {\n      border-color: transparent;\n      border-right-color: var(--fill-color);\n      border-top-color: var(--fill-color);\n    }\n    60% {\n      border-color: transparent;\n      border-right-color: var(--fill-color);\n    }\n    80% {\n      border-color: transparent;\n      border-right-color: var(--fill-color);\n      border-bottom-color: var(--fill-color);\n    }\n    90% {\n      border-color: transparent;\n      border-bottom-color: var(--fill-color);\n    }\n  }\n</style>\n\n      <script>\n        async function quickchart(key) {\n          const quickchartButtonEl =\n            document.querySelector('#' + key + ' button');\n          quickchartButtonEl.disabled = true;  // To prevent multiple clicks.\n          quickchartButtonEl.classList.add('colab-df-spinner');\n          try {\n            const charts = await google.colab.kernel.invokeFunction(\n                'suggestCharts', [key], {});\n          } catch (error) {\n            console.error('Error during call to suggestCharts:', error);\n          }\n          quickchartButtonEl.classList.remove('colab-df-spinner');\n          quickchartButtonEl.classList.add('colab-df-quickchart-complete');\n        }\n        (() => {\n          let quickchartButtonEl =\n            document.querySelector('#df-fb6eb74b-10ad-4f39-b068-8d6bb55342bf button');\n          quickchartButtonEl.style.display =\n            google.colab.kernel.accessAllowed ? 'block' : 'none';\n        })();\n      </script>\n    </div>\n\n    </div>\n  </div>\n",
                  "application/vnd.google.colaboratory.intrinsic+json": {
                    "type": "dataframe",
                    "summary": "{\n  \"name\": \"display(textarea, submit_btn, out_area)\",\n  \"rows\": 2,\n  \"fields\": [\n    {\n      \"column\": \"id\",\n      \"properties\": {\n        \"dtype\": \"number\",\n        \"std\": 0,\n        \"min\": 1,\n        \"max\": 2,\n        \"num_unique_values\": 2,\n        \"samples\": [\n          2,\n          1\n        ],\n        \"semantic_type\": \"\",\n        \"description\": \"\"\n      }\n    },\n    {\n      \"column\": \"created_at\",\n      \"properties\": {\n        \"dtype\": \"object\",\n        \"num_unique_values\": 2,\n        \"samples\": [\n          \"2025-06-02 13:05\",\n          \"2025-06-02 13:04\"\n        ],\n        \"semantic_type\": \"\",\n        \"description\": \"\"\n      }\n    },\n    {\n      \"column\": \"content\",\n      \"properties\": {\n        \"dtype\": \"string\",\n        \"num_unique_values\": 2,\n        \"samples\": [\n          \"\\u4eca\\u5929\\u6211\\u7684\\u670b\\u53cb\\u4e0d\\u8ddf\\u73a9\\u904a\",\n          \"\\u6211\\u4eca\\u5929\\u5f88\\u4e0d\\u958b\\u5fc3\"\n        ],\n        \"semantic_type\": \"\",\n        \"description\": \"\"\n      }\n    },\n    {\n      \"column\": \"anxiety_score\",\n      \"properties\": {\n        \"dtype\": \"number\",\n        \"std\": 0.0,\n        \"min\": 30.0,\n        \"max\": 30.0,\n        \"num_unique_values\": 1,\n        \"samples\": [\n          30.0\n        ],\n        \"semantic_type\": \"\",\n        \"description\": \"\"\n      }\n    },\n    {\n      \"column\": \"ai_feedback\",\n      \"properties\": {\n        \"dtype\": \"string\",\n        \"num_unique_values\": 2,\n        \"samples\": [\n          \"\\u5617\\u8a66\\u8207\\u4f60\\u7684\\u670b\\u53cb\\u9032\\u884c\\u958b\\u653e\\u4e14\\u53cb\\u5584\\u7684\\u5c0d\\u8a71\\uff0c\\u8a62\\u554f\\u4ed6\\u5011\\u70ba\\u4f55\\u4e0d\\u60f3\\u8207\\u4f60\\u4e00\\u8d77\\u73a9\\u904a\\u6232\\uff0c\\u9019\\u53ef\\u80fd\\u662f\\u56e0\\u70ba\\u4ed6\\u5011\\u6709\\u5176\\u4ed6\\u4e8b\\u60c5\\u9700\\u8981\\u8655\\u7406\\u3002\\u53e6\\u5916\\uff0c\\u5617\\u8a66\\u5c0b\\u627e\\u5176\\u4ed6\\u8208\\u8da3\\u6216\\u6d3b\\u52d5\\uff0c\\u8b93\\u4f60\\u53ef\\u4ee5\\u81ea\\u5df1\\u6216\\u8207\\u5176\\u4ed6\\u4eba\\u4e00\\u8d77\\u4eab\\u53d7\\uff0c\\u9019\\u6a23\\u53ef\\u4ee5\\u5e6b\\u52a9\\u4f60\\u64f4\\u5927\\u793e\\u4ea4\\u5708\"\n        ],\n        \"semantic_type\": \"\",\n        \"description\": \"\"\n      }\n    }\n  ]\n}"
                  }
                },
                "metadata": {}
              },
              {
                "output_type": "stream",
                "name": "stderr",
                "text": [
                  "WARNING:matplotlib.font_manager:findfont: Font family 'Noto Sans CJK TC' not found.\n"
                ]
              },
              {
                "output_type": "stream",
                "name": "stderr",
                "text": [
                  "WARNING:matplotlib.font_manager:findfont: Font family 'Noto Sans CJK TC' not found.\n"
                ]
              },
              {
                "output_type": "stream",
                "name": "stderr",
                "text": [
                  "WARNING:matplotlib.font_manager:findfont: Font family 'Noto Sans CJK TC' not found.\n"
                ]
              },
              {
                "output_type": "stream",
                "name": "stderr",
                "text": [
                  "WARNING:matplotlib.font_manager:findfont: Font family 'Noto Sans CJK TC' not found.\n"
                ]
              },
              {
                "output_type": "stream",
                "name": "stderr",
                "text": [
                  "WARNING:matplotlib.font_manager:findfont: Font family 'Noto Sans CJK TC' not found.\n"
                ]
              },
              {
                "output_type": "stream",
                "name": "stderr",
                "text": [
                  "WARNING:matplotlib.font_manager:findfont: Font family 'Noto Sans CJK TC' not found.\n"
                ]
              },
              {
                "output_type": "stream",
                "name": "stderr",
                "text": [
                  "WARNING:matplotlib.font_manager:findfont: Font family 'Noto Sans CJK TC' not found.\n"
                ]
              },
              {
                "output_type": "stream",
                "name": "stderr",
                "text": [
                  "WARNING:matplotlib.font_manager:findfont: Font family 'Noto Sans CJK TC' not found.\n"
                ]
              },
              {
                "output_type": "stream",
                "name": "stderr",
                "text": [
                  "WARNING:matplotlib.font_manager:findfont: Font family 'Noto Sans CJK TC' not found.\n"
                ]
              },
              {
                "output_type": "stream",
                "name": "stderr",
                "text": [
                  "<ipython-input-13-4ab91e95b9bd>:96: UserWarning: Glyph 26085 (\\N{CJK UNIFIED IDEOGRAPH-65E5}) missing from font(s) DejaVu Sans.\n",
                  "  plt.tight_layout()\n",
                  "<ipython-input-13-4ab91e95b9bd>:96: UserWarning: Glyph 26399 (\\N{CJK UNIFIED IDEOGRAPH-671F}) missing from font(s) DejaVu Sans.\n",
                  "  plt.tight_layout()\n",
                  "WARNING:matplotlib.font_manager:findfont: Font family 'Noto Sans CJK TC' not found.\n"
                ]
              },
              {
                "output_type": "stream",
                "name": "stderr",
                "text": [
                  "WARNING:matplotlib.font_manager:findfont: Font family 'Noto Sans CJK TC' not found.\n"
                ]
              },
              {
                "output_type": "stream",
                "name": "stderr",
                "text": [
                  "WARNING:matplotlib.font_manager:findfont: Font family 'Noto Sans CJK TC' not found.\n"
                ]
              },
              {
                "output_type": "stream",
                "name": "stderr",
                "text": [
                  "WARNING:matplotlib.font_manager:findfont: Font family 'Noto Sans CJK TC' not found.\n"
                ]
              },
              {
                "output_type": "stream",
                "name": "stderr",
                "text": [
                  "WARNING:matplotlib.font_manager:findfont: Font family 'Noto Sans CJK TC' not found.\n"
                ]
              },
              {
                "output_type": "stream",
                "name": "stderr",
                "text": [
                  "WARNING:matplotlib.font_manager:findfont: Font family 'Noto Sans CJK TC' not found.\n"
                ]
              },
              {
                "output_type": "stream",
                "name": "stderr",
                "text": [
                  "WARNING:matplotlib.font_manager:findfont: Font family 'Noto Sans CJK TC' not found.\n"
                ]
              },
              {
                "output_type": "stream",
                "name": "stderr",
                "text": [
                  "WARNING:matplotlib.font_manager:findfont: Font family 'Noto Sans CJK TC' not found.\n"
                ]
              },
              {
                "output_type": "stream",
                "name": "stderr",
                "text": [
                  "<ipython-input-13-4ab91e95b9bd>:96: UserWarning: Glyph 28966 (\\N{CJK UNIFIED IDEOGRAPH-7126}) missing from font(s) DejaVu Sans.\n",
                  "  plt.tight_layout()\n",
                  "<ipython-input-13-4ab91e95b9bd>:96: UserWarning: Glyph 24942 (\\N{CJK UNIFIED IDEOGRAPH-616E}) missing from font(s) DejaVu Sans.\n",
                  "  plt.tight_layout()\n",
                  "<ipython-input-13-4ab91e95b9bd>:96: UserWarning: Glyph 25351 (\\N{CJK UNIFIED IDEOGRAPH-6307}) missing from font(s) DejaVu Sans.\n",
                  "  plt.tight_layout()\n",
                  "<ipython-input-13-4ab91e95b9bd>:96: UserWarning: Glyph 25976 (\\N{CJK UNIFIED IDEOGRAPH-6578}) missing from font(s) DejaVu Sans.\n",
                  "  plt.tight_layout()\n",
                  "WARNING:matplotlib.font_manager:findfont: Font family 'Noto Sans CJK TC' not found.\n"
                ]
              },
              {
                "output_type": "stream",
                "name": "stderr",
                "text": [
                  "WARNING:matplotlib.font_manager:findfont: Font family 'Noto Sans CJK TC' not found.\n"
                ]
              },
              {
                "output_type": "stream",
                "name": "stderr",
                "text": [
                  "<ipython-input-13-4ab91e95b9bd>:96: UserWarning: Glyph 25240 (\\N{CJK UNIFIED IDEOGRAPH-6298}) missing from font(s) DejaVu Sans.\n",
                  "  plt.tight_layout()\n",
                  "<ipython-input-13-4ab91e95b9bd>:96: UserWarning: Glyph 32218 (\\N{CJK UNIFIED IDEOGRAPH-7DDA}) missing from font(s) DejaVu Sans.\n",
                  "  plt.tight_layout()\n",
                  "<ipython-input-13-4ab91e95b9bd>:96: UserWarning: Glyph 22294 (\\N{CJK UNIFIED IDEOGRAPH-5716}) missing from font(s) DejaVu Sans.\n",
                  "  plt.tight_layout()\n",
                  "<ipython-input-13-4ab91e95b9bd>:96: UserWarning: Glyph 65288 (\\N{FULLWIDTH LEFT PARENTHESIS}) missing from font(s) DejaVu Sans.\n",
                  "  plt.tight_layout()\n",
                  "<ipython-input-13-4ab91e95b9bd>:96: UserWarning: Glyph 27511 (\\N{CJK UNIFIED IDEOGRAPH-6B77}) missing from font(s) DejaVu Sans.\n",
                  "  plt.tight_layout()\n",
                  "<ipython-input-13-4ab91e95b9bd>:96: UserWarning: Glyph 21490 (\\N{CJK UNIFIED IDEOGRAPH-53F2}) missing from font(s) DejaVu Sans.\n",
                  "  plt.tight_layout()\n",
                  "<ipython-input-13-4ab91e95b9bd>:96: UserWarning: Glyph 65289 (\\N{FULLWIDTH RIGHT PARENTHESIS}) missing from font(s) DejaVu Sans.\n",
                  "  plt.tight_layout()\n",
                  "WARNING:matplotlib.font_manager:findfont: Font family 'Noto Sans CJK TC' not found.\n"
                ]
              },
              {
                "output_type": "stream",
                "name": "stderr",
                "text": [
                  "WARNING:matplotlib.font_manager:findfont: Font family 'Noto Sans CJK TC' not found.\n"
                ]
              },
              {
                "output_type": "stream",
                "name": "stderr",
                "text": [
                  "WARNING:matplotlib.font_manager:findfont: Font family 'Noto Sans CJK TC' not found.\n"
                ]
              },
              {
                "output_type": "stream",
                "name": "stderr",
                "text": [
                  "WARNING:matplotlib.font_manager:findfont: Font family 'Noto Sans CJK TC' not found.\n"
                ]
              },
              {
                "output_type": "stream",
                "name": "stderr",
                "text": [
                  "WARNING:matplotlib.font_manager:findfont: Font family 'Noto Sans CJK TC' not found.\n"
                ]
              },
              {
                "output_type": "stream",
                "name": "stderr",
                "text": [
                  "WARNING:matplotlib.font_manager:findfont: Font family 'Noto Sans CJK TC' not found.\n"
                ]
              },
              {
                "output_type": "stream",
                "name": "stderr",
                "text": [
                  "WARNING:matplotlib.font_manager:findfont: Font family 'Noto Sans CJK TC' not found.\n"
                ]
              },
              {
                "output_type": "stream",
                "name": "stderr",
                "text": [
                  "WARNING:matplotlib.font_manager:findfont: Font family 'Noto Sans CJK TC' not found.\n"
                ]
              },
              {
                "output_type": "stream",
                "name": "stderr",
                "text": [
                  "/usr/local/lib/python3.11/dist-packages/IPython/core/pylabtools.py:151: UserWarning: Glyph 28966 (\\N{CJK UNIFIED IDEOGRAPH-7126}) missing from font(s) DejaVu Sans.\n",
                  "  fig.canvas.print_figure(bytes_io, **kw)\n",
                  "/usr/local/lib/python3.11/dist-packages/IPython/core/pylabtools.py:151: UserWarning: Glyph 24942 (\\N{CJK UNIFIED IDEOGRAPH-616E}) missing from font(s) DejaVu Sans.\n",
                  "  fig.canvas.print_figure(bytes_io, **kw)\n",
                  "/usr/local/lib/python3.11/dist-packages/IPython/core/pylabtools.py:151: UserWarning: Glyph 25351 (\\N{CJK UNIFIED IDEOGRAPH-6307}) missing from font(s) DejaVu Sans.\n",
                  "  fig.canvas.print_figure(bytes_io, **kw)\n",
                  "/usr/local/lib/python3.11/dist-packages/IPython/core/pylabtools.py:151: UserWarning: Glyph 25976 (\\N{CJK UNIFIED IDEOGRAPH-6578}) missing from font(s) DejaVu Sans.\n",
                  "  fig.canvas.print_figure(bytes_io, **kw)\n",
                  "WARNING:matplotlib.font_manager:findfont: Font family 'Noto Sans CJK TC' not found.\n"
                ]
              },
              {
                "output_type": "stream",
                "name": "stderr",
                "text": [
                  "WARNING:matplotlib.font_manager:findfont: Font family 'Noto Sans CJK TC' not found.\n"
                ]
              },
              {
                "output_type": "stream",
                "name": "stderr",
                "text": [
                  "/usr/local/lib/python3.11/dist-packages/IPython/core/pylabtools.py:151: UserWarning: Glyph 25240 (\\N{CJK UNIFIED IDEOGRAPH-6298}) missing from font(s) DejaVu Sans.\n",
                  "  fig.canvas.print_figure(bytes_io, **kw)\n",
                  "/usr/local/lib/python3.11/dist-packages/IPython/core/pylabtools.py:151: UserWarning: Glyph 32218 (\\N{CJK UNIFIED IDEOGRAPH-7DDA}) missing from font(s) DejaVu Sans.\n",
                  "  fig.canvas.print_figure(bytes_io, **kw)\n",
                  "/usr/local/lib/python3.11/dist-packages/IPython/core/pylabtools.py:151: UserWarning: Glyph 22294 (\\N{CJK UNIFIED IDEOGRAPH-5716}) missing from font(s) DejaVu Sans.\n",
                  "  fig.canvas.print_figure(bytes_io, **kw)\n",
                  "/usr/local/lib/python3.11/dist-packages/IPython/core/pylabtools.py:151: UserWarning: Glyph 65288 (\\N{FULLWIDTH LEFT PARENTHESIS}) missing from font(s) DejaVu Sans.\n",
                  "  fig.canvas.print_figure(bytes_io, **kw)\n",
                  "/usr/local/lib/python3.11/dist-packages/IPython/core/pylabtools.py:151: UserWarning: Glyph 27511 (\\N{CJK UNIFIED IDEOGRAPH-6B77}) missing from font(s) DejaVu Sans.\n",
                  "  fig.canvas.print_figure(bytes_io, **kw)\n",
                  "/usr/local/lib/python3.11/dist-packages/IPython/core/pylabtools.py:151: UserWarning: Glyph 21490 (\\N{CJK UNIFIED IDEOGRAPH-53F2}) missing from font(s) DejaVu Sans.\n",
                  "  fig.canvas.print_figure(bytes_io, **kw)\n",
                  "/usr/local/lib/python3.11/dist-packages/IPython/core/pylabtools.py:151: UserWarning: Glyph 65289 (\\N{FULLWIDTH RIGHT PARENTHESIS}) missing from font(s) DejaVu Sans.\n",
                  "  fig.canvas.print_figure(bytes_io, **kw)\n",
                  "WARNING:matplotlib.font_manager:findfont: Font family 'Noto Sans CJK TC' not found.\n"
                ]
              },
              {
                "output_type": "stream",
                "name": "stderr",
                "text": [
                  "WARNING:matplotlib.font_manager:findfont: Font family 'Noto Sans CJK TC' not found.\n"
                ]
              },
              {
                "output_type": "stream",
                "name": "stderr",
                "text": [
                  "WARNING:matplotlib.font_manager:findfont: Font family 'Noto Sans CJK TC' not found.\n"
                ]
              },
              {
                "output_type": "stream",
                "name": "stderr",
                "text": [
                  "WARNING:matplotlib.font_manager:findfont: Font family 'Noto Sans CJK TC' not found.\n"
                ]
              },
              {
                "output_type": "stream",
                "name": "stderr",
                "text": [
                  "WARNING:matplotlib.font_manager:findfont: Font family 'Noto Sans CJK TC' not found.\n"
                ]
              },
              {
                "output_type": "stream",
                "name": "stderr",
                "text": [
                  "WARNING:matplotlib.font_manager:findfont: Font family 'Noto Sans CJK TC' not found.\n"
                ]
              },
              {
                "output_type": "stream",
                "name": "stderr",
                "text": [
                  "WARNING:matplotlib.font_manager:findfont: Font family 'Noto Sans CJK TC' not found.\n"
                ]
              },
              {
                "output_type": "stream",
                "name": "stderr",
                "text": [
                  "WARNING:matplotlib.font_manager:findfont: Font family 'Noto Sans CJK TC' not found.\n"
                ]
              },
              {
                "output_type": "stream",
                "name": "stderr",
                "text": [
                  "WARNING:matplotlib.font_manager:findfont: Font family 'Noto Sans CJK TC' not found.\n"
                ]
              },
              {
                "output_type": "stream",
                "name": "stderr",
                "text": [
                  "WARNING:matplotlib.font_manager:findfont: Font family 'Noto Sans CJK TC' not found.\n"
                ]
              },
              {
                "output_type": "stream",
                "name": "stderr",
                "text": [
                  "WARNING:matplotlib.font_manager:findfont: Font family 'Noto Sans CJK TC' not found.\n"
                ]
              },
              {
                "output_type": "stream",
                "name": "stderr",
                "text": [
                  "WARNING:matplotlib.font_manager:findfont: Font family 'Noto Sans CJK TC' not found.\n"
                ]
              },
              {
                "output_type": "stream",
                "name": "stderr",
                "text": [
                  "WARNING:matplotlib.font_manager:findfont: Font family 'Noto Sans CJK TC' not found.\n"
                ]
              },
              {
                "output_type": "stream",
                "name": "stderr",
                "text": [
                  "WARNING:matplotlib.font_manager:findfont: Font family 'Noto Sans CJK TC' not found.\n"
                ]
              },
              {
                "output_type": "stream",
                "name": "stderr",
                "text": [
                  "WARNING:matplotlib.font_manager:findfont: Font family 'Noto Sans CJK TC' not found.\n"
                ]
              },
              {
                "output_type": "stream",
                "name": "stderr",
                "text": [
                  "/usr/local/lib/python3.11/dist-packages/IPython/core/pylabtools.py:151: UserWarning: Glyph 26085 (\\N{CJK UNIFIED IDEOGRAPH-65E5}) missing from font(s) DejaVu Sans.\n",
                  "  fig.canvas.print_figure(bytes_io, **kw)\n",
                  "/usr/local/lib/python3.11/dist-packages/IPython/core/pylabtools.py:151: UserWarning: Glyph 26399 (\\N{CJK UNIFIED IDEOGRAPH-671F}) missing from font(s) DejaVu Sans.\n",
                  "  fig.canvas.print_figure(bytes_io, **kw)\n",
                  "WARNING:matplotlib.font_manager:findfont: Font family 'Noto Sans CJK TC' not found.\n"
                ]
              },
              {
                "output_type": "stream",
                "name": "stderr",
                "text": [
                  "WARNING:matplotlib.font_manager:findfont: Font family 'Noto Sans CJK TC' not found.\n"
                ]
              },
              {
                "output_type": "stream",
                "name": "stderr",
                "text": [
                  "WARNING:matplotlib.font_manager:findfont: Font family 'Noto Sans CJK TC' not found.\n"
                ]
              },
              {
                "output_type": "stream",
                "name": "stderr",
                "text": [
                  "WARNING:matplotlib.font_manager:findfont: Font family 'Noto Sans CJK TC' not found.\n"
                ]
              },
              {
                "output_type": "stream",
                "name": "stderr",
                "text": [
                  "WARNING:matplotlib.font_manager:findfont: Font family 'Noto Sans CJK TC' not found.\n"
                ]
              },
              {
                "output_type": "stream",
                "name": "stderr",
                "text": [
                  "WARNING:matplotlib.font_manager:findfont: Font family 'Noto Sans CJK TC' not found.\n"
                ]
              },
              {
                "output_type": "display_data",
                "data": {
                  "text/plain": "<Figure size 700x300 with 1 Axes>",
                  "image/png": "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\n"
                },
                "metadata": {}
              }
            ]
          }
        },
        "bd8a65ad1175434b8d4753a1823bf77e": {
          "model_module": "@jupyter-widgets/base",
          "model_name": "LayoutModel",
          "model_module_version": "1.2.0",
          "state": {
            "_model_module": "@jupyter-widgets/base",
            "_model_module_version": "1.2.0",
            "_model_name": "LayoutModel",
            "_view_count": null,
            "_view_module": "@jupyter-widgets/base",
            "_view_module_version": "1.2.0",
            "_view_name": "LayoutView",
            "align_content": null,
            "align_items": null,
            "align_self": null,
            "border": null,
            "bottom": null,
            "display": null,
            "flex": null,
            "flex_flow": null,
            "grid_area": null,
            "grid_auto_columns": null,
            "grid_auto_flow": null,
            "grid_auto_rows": null,
            "grid_column": null,
            "grid_gap": null,
            "grid_row": null,
            "grid_template_areas": null,
            "grid_template_columns": null,
            "grid_template_rows": null,
            "height": null,
            "justify_content": null,
            "justify_items": null,
            "left": null,
            "margin": null,
            "max_height": null,
            "max_width": null,
            "min_height": null,
            "min_width": null,
            "object_fit": null,
            "object_position": null,
            "order": null,
            "overflow": null,
            "overflow_x": null,
            "overflow_y": null,
            "padding": null,
            "right": null,
            "top": null,
            "visibility": null,
            "width": null
          }
        }
      }
    }
  },
  "cells": [
    {
      "cell_type": "markdown",
      "metadata": {
        "id": "view-in-github",
        "colab_type": "text"
      },
      "source": [
        "<a href=\"https://colab.research.google.com/github/Matthew0077/genai/blob/main/%E7%84%A6%E6%85%AE%E6%83%85%E7%B7%92%E8%AA%BF%E7%AF%80_%E5%B0%88%E9%A1%8C.ipynb\" target=\"_parent\"><img src=\"https://colab.research.google.com/assets/colab-badge.svg\" alt=\"Open In Colab\"/></a>"
      ]
    },
    {
      "cell_type": "code",
      "execution_count": null,
      "metadata": {
        "id": "Ph6fzDyItoTe"
      },
      "outputs": [],
      "source": [
        "from google.colab import output\n",
        "output.enable_custom_widget_manager()"
      ]
    },
    {
      "cell_type": "code",
      "source": [
        "import ipywidgets as widgets\n",
        "widgets.Textarea()"
      ],
      "metadata": {
        "colab": {
          "base_uri": "https://localhost:8080/",
          "height": 61,
          "referenced_widgets": [
            "5251b0ec57b44997abcbd4df4f7b3019",
            "1be2fb1d5ba34cd3951ff5139132eb13",
            "f7daa079110f40eb8b22b9419302516e"
          ]
        },
        "id": "VWqrv2RptrIy",
        "outputId": "9b087684-ee98-409e-dae5-4e5de911bf34"
      },
      "execution_count": null,
      "outputs": [
        {
          "output_type": "display_data",
          "data": {
            "text/plain": [
              "Textarea(value='')"
            ],
            "application/vnd.jupyter.widget-view+json": {
              "version_major": 2,
              "version_minor": 0,
              "model_id": "5251b0ec57b44997abcbd4df4f7b3019"
            }
          },
          "metadata": {
            "application/vnd.jupyter.widget-view+json": {
              "colab": {
                "custom_widget_manager": {
                  "url": "https://ssl.gstatic.com/colaboratory-static/widgets/colab-cdn-widget-manager/2b70e893a8ba7c0f/manager.min.js"
                }
              }
            }
          }
        }
      ]
    },
    {
      "cell_type": "code",
      "source": [
        "from google.colab import userdata\n",
        "print(\"你的OpenAI密鑰：\", userdata.get('OpenAI'))"
      ],
      "metadata": {
        "id": "fLCZjgQJvLR5"
      },
      "execution_count": null,
      "outputs": []
    },
    {
      "cell_type": "code",
      "source": [
        "from google.colab import userdata\n",
        "import openai\n",
        "\n",
        "openai.api_key = userdata.get('OpenAI')\n",
        "print(\"API Key 設定完成？\", bool(openai.api_key))"
      ],
      "metadata": {
        "colab": {
          "base_uri": "https://localhost:8080/"
        },
        "id": "k2qFeQ7wvUsJ",
        "outputId": "716f579a-e0c9-4cbc-d08c-923c7c2e8b4f"
      },
      "execution_count": null,
      "outputs": [
        {
          "output_type": "stream",
          "name": "stdout",
          "text": [
            "API Key 設定完成？ True\n"
          ]
        }
      ]
    },
    {
      "cell_type": "code",
      "source": [
        "from google.colab import userdata\n",
        "import openai\n",
        "\n",
        "api_key = userdata.get('OpenAI')\n",
        "print(\"API Key:\", api_key)   # 確認不是 None\n",
        "openai.api_key = api_key\n",
        "print(\"API Key 設定完成？\", bool(openai.api_key))  # 必須是 True"
      ],
      "metadata": {
        "id": "xCIkGVRjvZl8"
      },
      "execution_count": null,
      "outputs": []
    },
    {
      "cell_type": "markdown",
      "source": [
        "### 上面是debug用的"
      ],
      "metadata": {
        "id": "ESjfv6T6txuS"
      }
    },
    {
      "cell_type": "code",
      "source": [
        "!pip install --upgrade openai ipywidgets sqlalchemy pandas matplotlib\n",
        "!apt-get -y install fonts-noto-cjk\n",
        "###按取消!"
      ],
      "metadata": {
        "colab": {
          "base_uri": "https://localhost:8080/",
          "height": 1000
        },
        "id": "1Yv_lbZ4uDed",
        "outputId": "039616a3-e0e6-4fb9-f3d6-7da8b091c933"
      },
      "execution_count": null,
      "outputs": [
        {
          "output_type": "stream",
          "name": "stdout",
          "text": [
            "Requirement already satisfied: openai in /usr/local/lib/python3.11/dist-packages (1.81.0)\n",
            "Collecting openai\n",
            "  Downloading openai-1.82.1-py3-none-any.whl.metadata (25 kB)\n",
            "Requirement already satisfied: ipywidgets in /usr/local/lib/python3.11/dist-packages (7.7.1)\n",
            "Collecting ipywidgets\n",
            "  Downloading ipywidgets-8.1.7-py3-none-any.whl.metadata (2.4 kB)\n",
            "Requirement already satisfied: sqlalchemy in /usr/local/lib/python3.11/dist-packages (2.0.41)\n",
            "Requirement already satisfied: pandas in /usr/local/lib/python3.11/dist-packages (2.2.2)\n",
            "Collecting pandas\n",
            "  Downloading pandas-2.2.3-cp311-cp311-manylinux_2_17_x86_64.manylinux2014_x86_64.whl.metadata (89 kB)\n",
            "\u001b[2K     \u001b[90m━━━━━━━━━━━━━━━━━━━━━━━━━━━━━━━━━━━━━━━━\u001b[0m \u001b[32m89.9/89.9 kB\u001b[0m \u001b[31m7.5 MB/s\u001b[0m eta \u001b[36m0:00:00\u001b[0m\n",
            "\u001b[?25hRequirement already satisfied: matplotlib in /usr/local/lib/python3.11/dist-packages (3.10.0)\n",
            "Collecting matplotlib\n",
            "  Downloading matplotlib-3.10.3-cp311-cp311-manylinux_2_17_x86_64.manylinux2014_x86_64.whl.metadata (11 kB)\n",
            "Requirement already satisfied: anyio<5,>=3.5.0 in /usr/local/lib/python3.11/dist-packages (from openai) (4.9.0)\n",
            "Requirement already satisfied: distro<2,>=1.7.0 in /usr/local/lib/python3.11/dist-packages (from openai) (1.9.0)\n",
            "Requirement already satisfied: httpx<1,>=0.23.0 in /usr/local/lib/python3.11/dist-packages (from openai) (0.28.1)\n",
            "Requirement already satisfied: jiter<1,>=0.4.0 in /usr/local/lib/python3.11/dist-packages (from openai) (0.10.0)\n",
            "Requirement already satisfied: pydantic<3,>=1.9.0 in /usr/local/lib/python3.11/dist-packages (from openai) (2.11.4)\n",
            "Requirement already satisfied: sniffio in /usr/local/lib/python3.11/dist-packages (from openai) (1.3.1)\n",
            "Requirement already satisfied: tqdm>4 in /usr/local/lib/python3.11/dist-packages (from openai) (4.67.1)\n",
            "Requirement already satisfied: typing-extensions<5,>=4.11 in /usr/local/lib/python3.11/dist-packages (from openai) (4.13.2)\n",
            "Collecting comm>=0.1.3 (from ipywidgets)\n",
            "  Downloading comm-0.2.2-py3-none-any.whl.metadata (3.7 kB)\n",
            "Requirement already satisfied: ipython>=6.1.0 in /usr/local/lib/python3.11/dist-packages (from ipywidgets) (7.34.0)\n",
            "Requirement already satisfied: traitlets>=4.3.1 in /usr/local/lib/python3.11/dist-packages (from ipywidgets) (5.7.1)\n",
            "Collecting widgetsnbextension~=4.0.14 (from ipywidgets)\n",
            "  Downloading widgetsnbextension-4.0.14-py3-none-any.whl.metadata (1.6 kB)\n",
            "Requirement already satisfied: jupyterlab_widgets~=3.0.15 in /usr/local/lib/python3.11/dist-packages (from ipywidgets) (3.0.15)\n",
            "Requirement already satisfied: greenlet>=1 in /usr/local/lib/python3.11/dist-packages (from sqlalchemy) (3.2.2)\n",
            "Requirement already satisfied: numpy>=1.23.2 in /usr/local/lib/python3.11/dist-packages (from pandas) (2.0.2)\n",
            "Requirement already satisfied: python-dateutil>=2.8.2 in /usr/local/lib/python3.11/dist-packages (from pandas) (2.9.0.post0)\n",
            "Requirement already satisfied: pytz>=2020.1 in /usr/local/lib/python3.11/dist-packages (from pandas) (2025.2)\n",
            "Requirement already satisfied: tzdata>=2022.7 in /usr/local/lib/python3.11/dist-packages (from pandas) (2025.2)\n",
            "Requirement already satisfied: contourpy>=1.0.1 in /usr/local/lib/python3.11/dist-packages (from matplotlib) (1.3.2)\n",
            "Requirement already satisfied: cycler>=0.10 in /usr/local/lib/python3.11/dist-packages (from matplotlib) (0.12.1)\n",
            "Requirement already satisfied: fonttools>=4.22.0 in /usr/local/lib/python3.11/dist-packages (from matplotlib) (4.58.0)\n",
            "Requirement already satisfied: kiwisolver>=1.3.1 in /usr/local/lib/python3.11/dist-packages (from matplotlib) (1.4.8)\n",
            "Requirement already satisfied: packaging>=20.0 in /usr/local/lib/python3.11/dist-packages (from matplotlib) (24.2)\n",
            "Requirement already satisfied: pillow>=8 in /usr/local/lib/python3.11/dist-packages (from matplotlib) (11.2.1)\n",
            "Requirement already satisfied: pyparsing>=2.3.1 in /usr/local/lib/python3.11/dist-packages (from matplotlib) (3.2.3)\n",
            "Requirement already satisfied: idna>=2.8 in /usr/local/lib/python3.11/dist-packages (from anyio<5,>=3.5.0->openai) (3.10)\n",
            "Requirement already satisfied: certifi in /usr/local/lib/python3.11/dist-packages (from httpx<1,>=0.23.0->openai) (2025.4.26)\n",
            "Requirement already satisfied: httpcore==1.* in /usr/local/lib/python3.11/dist-packages (from httpx<1,>=0.23.0->openai) (1.0.9)\n",
            "Requirement already satisfied: h11>=0.16 in /usr/local/lib/python3.11/dist-packages (from httpcore==1.*->httpx<1,>=0.23.0->openai) (0.16.0)\n",
            "Requirement already satisfied: setuptools>=18.5 in /usr/local/lib/python3.11/dist-packages (from ipython>=6.1.0->ipywidgets) (75.2.0)\n",
            "Collecting jedi>=0.16 (from ipython>=6.1.0->ipywidgets)\n",
            "\u001b[33m  WARNING: Retrying (Retry(total=4, connect=None, read=None, redirect=None, status=None)) after connection broken by 'ProtocolError('Connection aborted.', RemoteDisconnected('Remote end closed connection without response'))': /packages/c0/5a/9cac0c82afec3d09ccd97c8b6502d48f165f9124db81b4bcb90b4af974ee/jedi-0.19.2-py2.py3-none-any.whl.metadata\u001b[0m\u001b[33m\n",
            "\u001b[0m  Downloading jedi-0.19.2-py2.py3-none-any.whl.metadata (22 kB)\n",
            "Requirement already satisfied: decorator in /usr/local/lib/python3.11/dist-packages (from ipython>=6.1.0->ipywidgets) (4.4.2)\n",
            "Requirement already satisfied: pickleshare in /usr/local/lib/python3.11/dist-packages (from ipython>=6.1.0->ipywidgets) (0.7.5)\n",
            "Requirement already satisfied: prompt-toolkit!=3.0.0,!=3.0.1,<3.1.0,>=2.0.0 in /usr/local/lib/python3.11/dist-packages (from ipython>=6.1.0->ipywidgets) (3.0.51)\n",
            "Requirement already satisfied: pygments in /usr/local/lib/python3.11/dist-packages (from ipython>=6.1.0->ipywidgets) (2.19.1)\n",
            "Requirement already satisfied: backcall in /usr/local/lib/python3.11/dist-packages (from ipython>=6.1.0->ipywidgets) (0.2.0)\n",
            "Requirement already satisfied: matplotlib-inline in /usr/local/lib/python3.11/dist-packages (from ipython>=6.1.0->ipywidgets) (0.1.7)\n",
            "Requirement already satisfied: pexpect>4.3 in /usr/local/lib/python3.11/dist-packages (from ipython>=6.1.0->ipywidgets) (4.9.0)\n",
            "Requirement already satisfied: annotated-types>=0.6.0 in /usr/local/lib/python3.11/dist-packages (from pydantic<3,>=1.9.0->openai) (0.7.0)\n",
            "Requirement already satisfied: pydantic-core==2.33.2 in /usr/local/lib/python3.11/dist-packages (from pydantic<3,>=1.9.0->openai) (2.33.2)\n",
            "Requirement already satisfied: typing-inspection>=0.4.0 in /usr/local/lib/python3.11/dist-packages (from pydantic<3,>=1.9.0->openai) (0.4.1)\n",
            "Requirement already satisfied: six>=1.5 in /usr/local/lib/python3.11/dist-packages (from python-dateutil>=2.8.2->pandas) (1.17.0)\n",
            "Requirement already satisfied: parso<0.9.0,>=0.8.4 in /usr/local/lib/python3.11/dist-packages (from jedi>=0.16->ipython>=6.1.0->ipywidgets) (0.8.4)\n",
            "Requirement already satisfied: ptyprocess>=0.5 in /usr/local/lib/python3.11/dist-packages (from pexpect>4.3->ipython>=6.1.0->ipywidgets) (0.7.0)\n",
            "Requirement already satisfied: wcwidth in /usr/local/lib/python3.11/dist-packages (from prompt-toolkit!=3.0.0,!=3.0.1,<3.1.0,>=2.0.0->ipython>=6.1.0->ipywidgets) (0.2.13)\n",
            "Downloading openai-1.82.1-py3-none-any.whl (720 kB)\n",
            "\u001b[2K   \u001b[90m━━━━━━━━━━━━━━━━━━━━━━━━━━━━━━━━━━━━━━━━\u001b[0m \u001b[32m720.5/720.5 kB\u001b[0m \u001b[31m42.3 MB/s\u001b[0m eta \u001b[36m0:00:00\u001b[0m\n",
            "\u001b[?25hDownloading ipywidgets-8.1.7-py3-none-any.whl (139 kB)\n",
            "\u001b[2K   \u001b[90m━━━━━━━━━━━━━━━━━━━━━━━━━━━━━━━━━━━━━━━━\u001b[0m \u001b[32m139.8/139.8 kB\u001b[0m \u001b[31m12.2 MB/s\u001b[0m eta \u001b[36m0:00:00\u001b[0m\n",
            "\u001b[?25hDownloading pandas-2.2.3-cp311-cp311-manylinux_2_17_x86_64.manylinux2014_x86_64.whl (13.1 MB)\n",
            "\u001b[2K   \u001b[90m━━━━━━━━━━━━━━━━━━━━━━━━━━━━━━━━━━━━━━━━\u001b[0m \u001b[32m13.1/13.1 MB\u001b[0m \u001b[31m109.9 MB/s\u001b[0m eta \u001b[36m0:00:00\u001b[0m\n",
            "\u001b[?25hDownloading matplotlib-3.10.3-cp311-cp311-manylinux_2_17_x86_64.manylinux2014_x86_64.whl (8.6 MB)\n",
            "\u001b[2K   \u001b[90m━━━━━━━━━━━━━━━━━━━━━━━━━━━━━━━━━━━━━━━━\u001b[0m \u001b[32m8.6/8.6 MB\u001b[0m \u001b[31m112.4 MB/s\u001b[0m eta \u001b[36m0:00:00\u001b[0m\n",
            "\u001b[?25hDownloading comm-0.2.2-py3-none-any.whl (7.2 kB)\n",
            "Downloading widgetsnbextension-4.0.14-py3-none-any.whl (2.2 MB)\n",
            "\u001b[2K   \u001b[90m━━━━━━━━━━━━━━━━━━━━━━━━━━━━━━━━━━━━━━━━\u001b[0m \u001b[32m2.2/2.2 MB\u001b[0m \u001b[31m51.8 MB/s\u001b[0m eta \u001b[36m0:00:00\u001b[0m\n",
            "\u001b[?25hDownloading jedi-0.19.2-py2.py3-none-any.whl (1.6 MB)\n",
            "\u001b[2K   \u001b[90m━━━━━━━━━━━━━━━━━━━━━━━━━━━━━━━━━━━━━━━━\u001b[0m \u001b[32m1.6/1.6 MB\u001b[0m \u001b[31m65.9 MB/s\u001b[0m eta \u001b[36m0:00:00\u001b[0m\n",
            "\u001b[?25hInstalling collected packages: widgetsnbextension, jedi, comm, pandas, matplotlib, openai, ipywidgets\n",
            "  Attempting uninstall: widgetsnbextension\n",
            "    Found existing installation: widgetsnbextension 3.6.10\n",
            "    Uninstalling widgetsnbextension-3.6.10:\n",
            "      Successfully uninstalled widgetsnbextension-3.6.10\n",
            "  Attempting uninstall: pandas\n",
            "    Found existing installation: pandas 2.2.2\n",
            "    Uninstalling pandas-2.2.2:\n",
            "      Successfully uninstalled pandas-2.2.2\n",
            "  Attempting uninstall: matplotlib\n",
            "    Found existing installation: matplotlib 3.10.0\n",
            "    Uninstalling matplotlib-3.10.0:\n",
            "      Successfully uninstalled matplotlib-3.10.0\n",
            "  Attempting uninstall: openai\n",
            "    Found existing installation: openai 1.81.0\n",
            "    Uninstalling openai-1.81.0:\n",
            "      Successfully uninstalled openai-1.81.0\n",
            "  Attempting uninstall: ipywidgets\n",
            "    Found existing installation: ipywidgets 7.7.1\n",
            "    Uninstalling ipywidgets-7.7.1:\n",
            "      Successfully uninstalled ipywidgets-7.7.1\n",
            "\u001b[31mERROR: pip's dependency resolver does not currently take into account all the packages that are installed. This behaviour is the source of the following dependency conflicts.\n",
            "google-colab 1.0.0 requires pandas==2.2.2, but you have pandas 2.2.3 which is incompatible.\u001b[0m\u001b[31m\n",
            "\u001b[0mSuccessfully installed comm-0.2.2 ipywidgets-8.1.7 jedi-0.19.2 matplotlib-3.10.3 openai-1.82.1 pandas-2.2.3 widgetsnbextension-4.0.14\n"
          ]
        },
        {
          "output_type": "display_data",
          "data": {
            "application/vnd.colab-display-data+json": {
              "pip_warning": {
                "packages": [
                  "ipywidgets"
                ]
              },
              "id": "95856599a1814bbd90daf78d0dc33c38"
            }
          },
          "metadata": {}
        },
        {
          "output_type": "stream",
          "name": "stdout",
          "text": [
            "Reading package lists... Done\n",
            "Building dependency tree... Done\n",
            "Reading state information... Done\n",
            "Suggested packages:\n",
            "  fonts-noto-cjk-extra\n",
            "The following NEW packages will be installed:\n",
            "  fonts-noto-cjk\n",
            "0 upgraded, 1 newly installed, 0 to remove and 35 not upgraded.\n",
            "Need to get 61.2 MB of archives.\n",
            "After this operation, 93.2 MB of additional disk space will be used.\n",
            "Get:1 http://archive.ubuntu.com/ubuntu jammy/main amd64 fonts-noto-cjk all 1:20220127+repack1-1 [61.2 MB]\n",
            "Fetched 61.2 MB in 2s (30.9 MB/s)\n",
            "Selecting previously unselected package fonts-noto-cjk.\n",
            "(Reading database ... 126109 files and directories currently installed.)\n",
            "Preparing to unpack .../fonts-noto-cjk_1%3a20220127+repack1-1_all.deb ...\n",
            "Unpacking fonts-noto-cjk (1:20220127+repack1-1) ...\n",
            "Setting up fonts-noto-cjk (1:20220127+repack1-1) ...\n",
            "Processing triggers for fontconfig (2.13.1-4.2ubuntu5) ...\n"
          ]
        }
      ]
    },
    {
      "cell_type": "code",
      "source": [
        "from google.colab import output\n",
        "output.enable_custom_widget_manager()"
      ],
      "metadata": {
        "id": "iVv3wOVBuF9F"
      },
      "execution_count": null,
      "outputs": []
    },
    {
      "cell_type": "code",
      "source": [
        "import matplotlib.pyplot as plt\n",
        "plt.rcParams['font.family'] = 'Noto Sans CJK TC'\n",
        "plt.rcParams['axes.unicode_minus'] = False"
      ],
      "metadata": {
        "id": "-l_WXHaHuIpr"
      },
      "execution_count": null,
      "outputs": []
    },
    {
      "cell_type": "code",
      "source": [
        "import matplotlib.pyplot as plt\n",
        "plt.rcParams['font.family'] = 'Noto Sans CJK TC'\n",
        "plt.rcParams['axes.unicode_minus'] = False\n"
      ],
      "metadata": {
        "id": "2IKV0TMruNH3"
      },
      "execution_count": null,
      "outputs": []
    },
    {
      "cell_type": "code",
      "source": [
        "import sqlite3\n",
        "import openai\n",
        "import pandas as pd\n",
        "from datetime import datetime\n",
        "import ipywidgets as widgets\n",
        "from IPython.display import display, clear_output\n",
        "\n",
        "# 初始化 SQLite 資料庫\n",
        "conn = sqlite3.connect('anxiety_journal.db')\n",
        "cursor = conn.cursor()\n",
        "cursor.execute('''\n",
        "CREATE TABLE IF NOT EXISTS entries (\n",
        "    id INTEGER PRIMARY KEY AUTOINCREMENT,\n",
        "    created_at TEXT NOT NULL,\n",
        "    content TEXT NOT NULL,\n",
        "    anxiety_score REAL,\n",
        "    ai_feedback TEXT\n",
        ")\n",
        "''')\n",
        "conn.commit()\n",
        "\n",
        "# GPT-4 分析日記\n",
        "def analyze_entry(text: str) -> tuple[float, str]:\n",
        "    prompt = f\"\"\"\n",
        "你是一位教育心理學專家，請根據以下日記文字進行分析：\n",
        "---\n",
        "{text}\n",
        "---\n",
        "1. 以 0 到 100 的尺度給出「焦慮指數」，0 表示毫無焦慮，100 表示極度焦慮。\n",
        "2. 給出一段 2～3 句的「調節建議」。\n",
        "請用這個格式回覆：\n",
        "焦慮指數：<數值>\n",
        "調節建議：<文字>\n",
        "\"\"\"\n",
        "    response = openai.chat.completions.create(\n",
        "        model=\"gpt-4\",\n",
        "        messages=[\n",
        "            {\"role\": \"system\", \"content\": \"你是教育心理學專家。\"},\n",
        "            {\"role\": \"user\", \"content\": prompt}\n",
        "        ],\n",
        "        temperature=0.5,\n",
        "        max_tokens=150\n",
        "    )\n",
        "    reply = response.choices[0].message.content.strip()\n",
        "    score = 0.0\n",
        "    feedback = \"\"\n",
        "    for line in reply.splitlines():\n",
        "        if line.startswith(\"焦慮指數\"):\n",
        "            try:\n",
        "                score = float(line.split(\"：\")[1].strip())\n",
        "            except:\n",
        "                score = 0.0\n",
        "        elif line.startswith(\"調節建議\"):\n",
        "            feedback = line.split(\"：\", 1)[1].strip()\n",
        "    return score, feedback\n",
        "\n",
        "# 設計 widgets 元件\n",
        "textarea = widgets.Textarea(\n",
        "    value='',\n",
        "    placeholder='請在此輸入今天的焦慮日記…',\n",
        "    description='日記輸入：',\n",
        "    layout=widgets.Layout(width='80%', height='120px')\n",
        ")\n",
        "submit_btn = widgets.Button(\n",
        "    description='送出並分析',\n",
        "    button_style='primary'\n",
        ")\n",
        "out_area = widgets.Output()\n",
        "\n",
        "def on_submit_clicked(b):\n",
        "    with out_area:\n",
        "        out_area.clear_output()\n",
        "        user_text = textarea.value.strip()\n",
        "        if not user_text:\n",
        "            print(\"❗ 請先輸入日記內容。\")\n",
        "            return\n",
        "        score, feedback = analyze_entry(user_text)\n",
        "        cursor.execute(\n",
        "            'INSERT INTO entries (created_at, content, anxiety_score, ai_feedback) VALUES (?, ?, ?, ?)',\n",
        "            (datetime.utcnow().strftime(\"%Y-%m-%d %H:%M\"), user_text, score, feedback)\n",
        "        )\n",
        "        conn.commit()\n",
        "        print(f\"✅ 已儲存。焦慮指數：{score:.1f}\")\n",
        "        print(f\"🤖 AI 建議：{feedback}\\n\")\n",
        "        df_all = pd.read_sql_query('SELECT * FROM entries ORDER BY created_at ASC', conn)\n",
        "        print(\"--- 歷史所有日記紀錄 ---\")\n",
        "        display(df_all)\n",
        "        if len(df_all) > 1:\n",
        "            df_all['created_at'] = pd.to_datetime(df_all['created_at'])\n",
        "            plt.figure(figsize=(7, 3))\n",
        "            plt.plot(df_all['created_at'], df_all['anxiety_score'], marker='o', linestyle='-', color='tab:blue')\n",
        "            plt.xlabel(\"日期\")\n",
        "            plt.ylabel(\"焦慮指數\")\n",
        "            plt.title(\"焦慮指數折線圖（歷史）\")\n",
        "            plt.xticks(rotation=45)\n",
        "            plt.tight_layout()\n",
        "            plt.grid(alpha=0.3)\n",
        "            plt.show()\n",
        "        else:\n",
        "            print(\"（再多寫幾天日記，就會自動產生折線圖啦！）\")\n",
        "\n",
        "submit_btn.on_click(on_submit_clicked)\n",
        "\n",
        "# 顯示 widgets 介面\n",
        "display(textarea, submit_btn, out_area)\n"
      ],
      "metadata": {
        "colab": {
          "base_uri": "https://localhost:8080/",
          "height": 1000,
          "referenced_widgets": [
            "361f2ac23bcc47e4859b089b0332bf1f",
            "568ae4fc7e974fb8a7f275d219825248",
            "78c982c8368f4eb0a4a50b2e8c2600f0",
            "cd18ab437a614e5494ab75bf016d7250",
            "7ff5af00fc934a8d8643e7460f1ed8e2",
            "ede8e8cab08c423892ee3a58981a40a7",
            "46b45ac70d0b455db3175a3b05422769",
            "bd8a65ad1175434b8d4753a1823bf77e"
          ]
        },
        "id": "kgfyFmaWuSG-",
        "outputId": "76083800-a79e-445f-c77a-8ac730e99a62"
      },
      "execution_count": null,
      "outputs": [
        {
          "output_type": "display_data",
          "data": {
            "text/plain": [
              "Textarea(value='', description='日記輸入：', layout=Layout(height='120px', width='80%'), placeholder='請在此輸入今天的焦慮日記……"
            ],
            "application/vnd.jupyter.widget-view+json": {
              "version_major": 2,
              "version_minor": 0,
              "model_id": "361f2ac23bcc47e4859b089b0332bf1f"
            }
          },
          "metadata": {
            "application/vnd.jupyter.widget-view+json": {
              "colab": {
                "custom_widget_manager": {
                  "url": "https://ssl.gstatic.com/colaboratory-static/widgets/colab-cdn-widget-manager/2b70e893a8ba7c0f/manager.min.js"
                }
              }
            }
          }
        },
        {
          "output_type": "display_data",
          "data": {
            "text/plain": [
              "Button(button_style='primary', description='送出並分析', style=ButtonStyle())"
            ],
            "application/vnd.jupyter.widget-view+json": {
              "version_major": 2,
              "version_minor": 0,
              "model_id": "cd18ab437a614e5494ab75bf016d7250"
            }
          },
          "metadata": {
            "application/vnd.jupyter.widget-view+json": {
              "colab": {
                "custom_widget_manager": {
                  "url": "https://ssl.gstatic.com/colaboratory-static/widgets/colab-cdn-widget-manager/2b70e893a8ba7c0f/manager.min.js"
                }
              }
            }
          }
        },
        {
          "output_type": "display_data",
          "data": {
            "text/plain": [
              "Output()"
            ],
            "application/vnd.jupyter.widget-view+json": {
              "version_major": 2,
              "version_minor": 0,
              "model_id": "46b45ac70d0b455db3175a3b05422769"
            }
          },
          "metadata": {
            "application/vnd.jupyter.widget-view+json": {
              "colab": {
                "custom_widget_manager": {
                  "url": "https://ssl.gstatic.com/colaboratory-static/widgets/colab-cdn-widget-manager/2b70e893a8ba7c0f/manager.min.js"
                }
              }
            }
          }
        }
      ]
    },
    {
      "cell_type": "markdown",
      "source": [
        "### 等待30秒"
      ],
      "metadata": {
        "id": "ETt-2tOfvhZd"
      }
    }
  ]
}